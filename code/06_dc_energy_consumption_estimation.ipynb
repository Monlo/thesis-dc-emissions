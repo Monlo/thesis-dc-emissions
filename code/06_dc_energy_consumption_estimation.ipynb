{
 "cells": [
  {
   "metadata": {},
   "cell_type": "code",
   "outputs": [],
   "execution_count": null,
   "source": [
    "###\n",
    "# @Author             : Monserrat López\n",
    "# @Date               : 2025-03-05\n",
    "# @Last Modified Date : 2025-04-25\n",
    "# @Description        : Estimation of data center annual energy consumption across the EU \n",
    "#                       using area-based scenarios adapted from Jerléus et al. (2024). \n",
    "#                       Includes EU-wide, country-level, and data center type-level aggregations.\n",
    "# @Note               : This script is intended for academic research purposes only.\n",
    "#                       Some original raw data collected during the research is not included in this repository for confidentiality reasons.\n",
    "###"
   ],
   "id": "4946484849ad5acc"
  },
  {
   "metadata": {},
   "cell_type": "code",
   "outputs": [],
   "execution_count": null,
   "source": [
    "import seaborn as sns\n",
    "import pandas as pd\n",
    "import matplotlib.pyplot as plt"
   ],
   "id": "9ba15bd085790279"
  },
  {
   "metadata": {},
   "cell_type": "markdown",
   "source": "### Estimations of DC Energy Consumption",
   "id": "24b4b1c144b03ab9"
  },
  {
   "metadata": {},
   "cell_type": "code",
   "outputs": [],
   "execution_count": null,
   "source": [
    "# Set the visualization style\n",
    "sns.set(style=\"whitegrid\")\n",
    "plt.rcParams['figure.figsize'] = (12, 8)\n",
    "\n",
    "# Load the dataset\n",
    "df = pd.read_csv('../output/09_classified_DC_EU27.csv')"
   ],
   "id": "882b4ad1afcd1d1c"
  },
  {
   "metadata": {},
   "cell_type": "code",
   "outputs": [],
   "execution_count": null,
   "source": [
    "print(df['whitespace_sqm'].isna().sum())  # Total missing\n",
    "print(df['whitespace_sqm'].notna().sum())  # Total non-missing"
   ],
   "id": "c3549a9e7af61b19"
  },
  {
   "metadata": {},
   "cell_type": "code",
   "outputs": [],
   "execution_count": null,
   "source": [
    "# Area Class Assignment from Jerléus et al.\n",
    "def classify_area_bracket(area):\n",
    "    if pd.isna(area):\n",
    "        return None\n",
    "    elif area < 9.3:\n",
    "        return 'A'\n",
    "    elif area < 92.82:\n",
    "        return 'B'\n",
    "    elif area < 185.7:\n",
    "        return 'C'\n",
    "    elif area < 1858:\n",
    "        return 'D'\n",
    "    else:\n",
    "        return 'E'\n",
    "    \n",
    "df['area_class'] = df['whitespace_sqm'].apply(classify_area_bracket)"
   ],
   "id": "eb3db3ba52861d0b"
  },
  {
   "metadata": {},
   "cell_type": "code",
   "outputs": [],
   "execution_count": null,
   "source": [
    "# Define scenario table\n",
    "scenario_table = {\n",
    "    'A': {'itd': None, 'pue': {'low': 2.00, 'mid': 2.00, 'high': 2.00}},  # <9.3 m²\n",
    "    'B': {'itd': 0.43, 'pue': {'low': 2.15, 'mid': 2.35, 'high': 2.55}},  # 9.3–92.82 m²\n",
    "    'C': {'itd': 0.65, 'pue': {'low': 1.68, 'mid': 1.88, 'high': 2.08}},  # 46.5–185.7 m²\n",
    "    'D': {'itd': 0.86, 'pue': {'low': 1.59, 'mid': 1.79, 'high': 1.99}},  # 185.8–1858 m²\n",
    "    'E': {'itd': 1.10, 'pue': {'low': 1.40, 'mid': 1.60, 'high': 1.80}},  # >1858 m²\n",
    "}"
   ],
   "id": "292cbd74a736a050"
  },
  {
   "metadata": {},
   "cell_type": "code",
   "outputs": [],
   "execution_count": null,
   "source": [
    "### Energy estimation function\n",
    "def compute_energy_bounds(row, scenario):\n",
    "    area = row['whitespace_sqm']\n",
    "    dc_type = row['dc_type_final']\n",
    "    cls = row['area_class']\n",
    "\n",
    "    if pd.isnull(area) or pd.isnull(cls):\n",
    "        return None\n",
    "\n",
    "    if dc_type == 'hyperscale':\n",
    "        pue = 1.13\n",
    "        itd = 1.10\n",
    "    else:\n",
    "        pue = scenario_table[cls]['pue'][scenario]\n",
    "        itd = scenario_table[cls]['itd']\n",
    "    \n",
    "    if itd is None or pue is None:\n",
    "        return None\n",
    "    \n",
    "    return (itd / 1000) * pue * area * 8760  # Convert kW to MW × hours/year = MWh"
   ],
   "id": "92399f2601ec4c6d"
  },
  {
   "metadata": {},
   "cell_type": "code",
   "outputs": [],
   "execution_count": null,
   "source": [
    "##  Compute energy scenarios\n",
    "for scenario in ['low', 'mid', 'high']:\n",
    "    df[f'energy_{scenario}'] = df.apply(lambda row: compute_energy_bounds(row, scenario), axis=1)\n",
    "    df[f'energy_{scenario}_twh'] = df[f'energy_{scenario}'] / 1e6"
   ],
   "id": "37113f9e1cdd11de"
  },
  {
   "metadata": {},
   "cell_type": "markdown",
   "source": "### Estimations",
   "id": "c945f27107e10654"
  },
  {
   "metadata": {},
   "cell_type": "code",
   "outputs": [],
   "execution_count": null,
   "source": [
    "# EU-wide energy summary\n",
    "print(\"\\nEU-Level Annual Energy Use (TWh):\")\n",
    "for scenario in ['low', 'mid', 'high']:\n",
    "    total_twh = df[f'energy_{scenario}_twh'].sum()\n",
    "    print(f\"{scenario.capitalize()}: {total_twh:.2f} TWh\")"
   ],
   "id": "3c5c8fe35f596f64"
  },
  {
   "metadata": {},
   "cell_type": "code",
   "outputs": [],
   "execution_count": null,
   "source": [
    "### Analysis\n",
    "\n",
    "# --- National-level totals ---\n",
    "country_energy = df.groupby('country_normalized').agg({\n",
    "    'energy_low_twh': 'sum',\n",
    "    'energy_mid_twh': 'sum',\n",
    "    'energy_high_twh': 'sum'\n",
    "}).reset_index()\n",
    "\n",
    "# Optional: sort by mid-scenario energy\n",
    "country_energy = country_energy.sort_values(by='energy_mid_twh', ascending=False)\n",
    "\n",
    "print(country_energy.head(10))  # Top 10 countries"
   ],
   "id": "a6df8e45f73aa62f"
  },
  {
   "metadata": {},
   "cell_type": "code",
   "outputs": [],
   "execution_count": null,
   "source": [
    "# Round all numeric columns to 3 decimal places\n",
    "country_energy = country_energy.round({\n",
    "    'energy_low_twh': 2,\n",
    "    'energy_mid_twh': 2,\n",
    "    'energy_high_twh': 2\n",
    "})"
   ],
   "id": "cc07b1dc8a7b9547"
  },
  {
   "metadata": {},
   "cell_type": "code",
   "outputs": [],
   "execution_count": null,
   "source": [
    "# Plot top 10 countries\n",
    "top10 = country_energy.head(10)\n",
    "plt.figure(figsize=(10, 6))\n",
    "sns.barplot(data=top10, y='country_normalized', x='energy_mid_twh')\n",
    "plt.xlabel(\"Estimated Annual Energy Consumption (TWh)\")\n",
    "plt.ylabel(\"Country\")\n",
    "plt.title(\"Top 10 EU Countries by Data Center Energy Use\")\n",
    "plt.tight_layout()\n",
    "plt.show()"
   ],
   "id": "a480998107c0ce0c"
  },
  {
   "metadata": {},
   "cell_type": "code",
   "outputs": [],
   "execution_count": null,
   "source": [
    "# --- Total EU-level energy consumption (TWh/year) ---\n",
    "eu_energy_summary = {\n",
    "    'Scenario': ['Low', 'Mid', 'High'],\n",
    "    'Total Energy (TWh)': [\n",
    "        df['energy_low_twh'].sum(),\n",
    "        df['energy_mid_twh'].sum(),\n",
    "        df['energy_high_twh'].sum()\n",
    "    ]\n",
    "}\n",
    "\n",
    "import pandas as pd\n",
    "eu_energy_df = pd.DataFrame(eu_energy_summary)\n",
    "print(\"EU-Level Data Center Energy Estimates (Area-Based):\")\n",
    "print(eu_energy_df)\n"
   ],
   "id": "1f10daed7f15675c"
  },
  {
   "metadata": {},
   "cell_type": "code",
   "outputs": [],
   "execution_count": null,
   "source": [
    "# Export the cleaned European datacenter DataFrame to a CSV file\n",
    "csv_filename = \"../output/10_EC_DC_EU27.csv\"\n",
    "df.to_csv(csv_filename, index=False, encoding=\"utf-8\")"
   ],
   "id": "5bf1ffc115e2427f"
  },
  {
   "metadata": {},
   "cell_type": "code",
   "outputs": [],
   "execution_count": null,
   "source": [
    "# Calculate average energy use by data center type\n",
    "avg_energy_by_type = df.groupby('dc_type_final').agg({\n",
    "    'energy_low_twh': 'mean',\n",
    "    'energy_mid_twh': 'mean',\n",
    "    'energy_high_twh': 'mean'\n",
    "}).reset_index()\n",
    "\n",
    "# Round to 3 decimal places for readability\n",
    "avg_energy_by_type = avg_energy_by_type.round(3)\n",
    "\n",
    "# Sort by mid-scenario energy to see types with highest average energy use\n",
    "avg_energy_by_type = avg_energy_by_type.sort_values(by='energy_mid_twh', ascending=False)\n",
    "\n",
    "print(\"Average Energy Use by Data Center Type (TWh/year):\")\n",
    "print(avg_energy_by_type)"
   ],
   "id": "41a3da55b4f44c8a"
  }
 ],
 "metadata": {
  "kernelspec": {
   "display_name": "Python 3",
   "language": "python",
   "name": "python3"
  },
  "language_info": {
   "codemirror_mode": {
    "name": "ipython",
    "version": 2
   },
   "file_extension": ".py",
   "mimetype": "text/x-python",
   "name": "python",
   "nbconvert_exporter": "python",
   "pygments_lexer": "ipython2",
   "version": "2.7.6"
  }
 },
 "nbformat": 4,
 "nbformat_minor": 5
}
